{
 "cells": [
  {
   "cell_type": "code",
   "execution_count": 19,
   "metadata": {},
   "outputs": [],
   "source": [
    "import numpy as np\n",
    "import matplotlib.pyplot as plt\n",
    "from ipywidgets import interact, interactive, fixed, interact_manual\n",
    "import ipywidgets as widgets"
   ]
  },
  {
   "cell_type": "markdown",
   "metadata": {},
   "source": [
    "Zaczniemy od bardzo prostego przypadku nieskończonej studni potencjału, takiej jak na rysunku poniżej."
   ]
  },
  {
   "cell_type": "markdown",
   "metadata": {},
   "source": [
    "# "
   ]
  },
  {
   "cell_type": "markdown",
   "metadata": {},
   "source": [
    "W obszarze $0 < x < a$ potencjał $V(x) = 0$, poza nim $V(x) = \\infty$, co od razu implikuje, że elektron może przebywać tylko w obszarze $0 < x < a$.\n",
    "\n",
    "W tym obszarze równanie Schrodingera w postaci niezależnej od czasu:\n",
    "\n",
    "$$-\\frac{\\hbar^2}{2m}\\frac{\\partial^2 \\psi(x)}{\\partial x^2} = E\\psi(x)$$\n",
    "\n",
    "co możemy przekształcić do:\n",
    "\n",
    "$$\\frac{\\partial^2 \\psi(x)}{\\partial x^2} = -\\frac{2mE}{\\hbar^2}\\psi(x)$$\n",
    "\n",
    "równanie to ma taką samą postać, jak równanie ruchu oscylatora harmonicznego: $\\ddot{x} = -k x$ i jego ogólnym rozwiązaniem jest analogiczna jak w przypadku oscylatora funkcja:\n",
    "\n",
    "$\\psi(x) = c \\sin(x + \\delta)$, gdzie $c$ jest amplitudą a $\\delta$ przesunięciem fazowym.\n",
    "\n",
    "Aby znaleźć wartości $c$ i $\\delta$ należy przyjrzeć się warunkom brzegowym. W punktach $x=0$ i $x=a$ funkcja falowa $\\psi$ powinna wynosić 0, co prowadzi nas do 2 równań.\n",
    "\n",
    "$$\n",
    "\\left \\{\\begin{array}{ll}\n",
    "c \\sin(\\delta) = 0\\\\\n",
    "c \\sin(kx + \\delta) = 0\n",
    "\\end{array}\n",
    "\\right.\n",
    "$$\n",
    "\n",
    "z równania 1. wyliczamy, że $\\delta = 0$. Równanie 2 ma nieskończenie wiele rozwiązań: równość $\\sin(ka) = 0$ jest spełniona dla wszystkich $k = \\frac{n\\pi}{a}$, gdzie $n \\in \\mathbb{Z} \\setminus \\{ 0 \\}$ (przypadek $n = 0$ odrzucamy, bo odpowiadałby $\\psi(x) = 0$).\n",
    "\n",
    "Wartość $c$ znajdziemy żądając aby całkowite prawdopodobieństwo znalezienia elektronu w obszarze studni wynosiło 1:\n",
    "\n",
    "$$1 = \\int_0^a \\psi^\\ast(x)\\psi(x)dx$$\n",
    "\n",
    "gdzie $\\psi^\\ast(x)$ oznacza sprzężenie zespolone (https://pl.wikipedia.org/wiki/Sprz%C4%99%C5%BCenie_zespolone) $\\psi(x)$\n",
    "\n",
    "to prowadzi nas do:\n",
    "\n",
    "$$1 = \\int_0^a {c_n}^2 \\sin^2(\\frac{n\\pi}{a} x)dx$$\n",
    "\n",
    "$$1 = {c_n}^2\\frac{a}{2}$$\n",
    "\n",
    "$${c_n}^2 = {c_n}^\\ast \\cdot c_n = \\frac{2}{a}$$\n",
    "\n",
    "Ponieważ w ogólności $\\psi(x)$ jest funkcją zespoloną, $c_n = \\sqrt{\\frac{2}{a}} \\exp(i\\alpha)$, gdzie $\\exp(i\\alpha)$ jest czynnikiem fazowym. Wymnożenie $c_n$ przez jego sprzężenie zespolone: \n",
    "\n",
    "$${c_n}^\\ast \\cdot c_n = \\frac{2}{a} \\exp(i\\alpha)\\cdot\\exp(-i\\alpha) = \\frac{2}{a} \\exp(0) = \\frac{2}{a}$$ \n",
    "\n",
    "usuwa czynnik fazowy.\n",
    "\n",
    "Ponieważ czynnik fazowu nie zmienia stanu fizycznego opisywanego przez funkcję $\\psi(x)$, można go opuścić, co prowadzi do:\n",
    "\n",
    "$$\\psi_n(x) = \\sqrt{\\frac{2}{a}}\\sin\\left(\\frac{n\\pi}{a} x\\right)$$"
   ]
  },
  {
   "cell_type": "markdown",
   "metadata": {},
   "source": [
    "#### Zwizualizujemy teraz rozwiązania równania"
   ]
  },
  {
   "cell_type": "code",
   "execution_count": 23,
   "metadata": {},
   "outputs": [],
   "source": [
    "def psi_n(x,n,a):\n",
    "    return np.sqrt(2/a)*np.sin(n*np.pi*x/a)\n",
    "\n",
    "def psi_n2(x,n,a):\n",
    "    return psi_n(x,n,a)**2"
   ]
  },
  {
   "cell_type": "code",
   "execution_count": 24,
   "metadata": {},
   "outputs": [],
   "source": [
    "def plot_psi(n=1,a=1.0):\n",
    "    xarr = np.linspace(0,a,100)\n",
    "    yarr = psi_n(xarr,n,a)\n",
    "    yarr2 = psi_n2(xarr,n,a)\n",
    "    fig, axs = plt.subplots(2, sharex=True, gridspec_kw={'hspace':0})\n",
    "    axs[0].set_ylabel('$\\psi(x)$')\n",
    "    axs[1].set_ylabel('$\\psi(x)^2$')\n",
    "    axs[0].plot(xarr, yarr)\n",
    "    axs[1].plot(xarr, yarr2)"
   ]
  },
  {
   "cell_type": "code",
   "execution_count": 29,
   "metadata": {},
   "outputs": [
    {
     "data": {
      "application/vnd.jupyter.widget-view+json": {
       "model_id": "16fdd5b0a9a046ff81c087fec9f55abc",
       "version_major": 2,
       "version_minor": 0
      },
      "text/plain": [
       "interactive(children=(IntSlider(value=1, description='n', max=20, min=1), Output()), _dom_classes=('widget-int…"
      ]
     },
     "metadata": {},
     "output_type": "display_data"
    },
    {
     "data": {
      "text/plain": [
       "<function __main__.plot_psi(n=1, a=1.0)>"
      ]
     },
     "execution_count": 29,
     "metadata": {},
     "output_type": "execute_result"
    }
   ],
   "source": [
    "interact(plot_psi, n=widgets.IntSlider(min=1, max=20, step=1), a=fixed(1))"
   ]
  },
  {
   "cell_type": "markdown",
   "metadata": {},
   "source": [
    "Wyliczymy teraz energie dla $n$-tej funkcji falowej: $E_n$\n",
    "\n",
    "Lewa strona równania: $\\frac{\\partial^2 \\psi_n(x)}{\\partial x^2} = -\\frac{2mE_n}{\\hbar^2}\\psi_n(x)$ po zastosowaniu wyprowadzonego powyżej wyrażenia na $\\psi_n(x)$ wygląda następująco:\n",
    "\n",
    "$$\\frac{\\partial^2 \\psi_n(x)}{\\partial x^2} = \\frac{\\partial}{\\partial x}\\frac{\\partial \\psi_n(x)}{\\partial x} = \\frac{\\partial}{\\partial x} \\frac{\\partial}{\\partial x} \\left( \\right) = \\sqrt{\\frac{2}{a}} \\sin \\left({\\frac{n\\pi}{a} x} \\right) = \\\\ = \\frac{\\partial}{\\partial x}\\left( \\sqrt{\\frac{2}{a}} \\frac{n\\pi}{a} \\cos\\left({\\frac{n\\pi}{a} x} \\right) \\right) = \\\\ = - \\sqrt{\\frac{2}{a}} \\left( \\frac{n\\pi}{a} \\right)^2 \\sin{\\left({\\frac{n\\pi}{a} x} \\right)} = \\\\ = -\\left( \\frac{n\\pi}{a} \\right)^2 \\psi_n(x)$$\n",
    "\n",
    "\n",
    "Co prowadzi do:\n",
    "\n",
    "$$-\\left( \\frac{n\\pi}{a} \\right)^2 \\psi_n(x) = -\\frac{2mE_n}{\\hbar^2}\\psi_n(x) $$\n",
    "\n",
    "$$E_n = \\frac{\\hbar^2}{2m} \\left( \\frac{n\\pi}{a} \\right)^2$$ "
   ]
  },
  {
   "cell_type": "markdown",
   "metadata": {},
   "source": [
    "Taka postać wyrażenia na energię prowadzi do kilku istotnych dla nas wniosków:\n",
    "\n",
    "* ponieważ przypadek $n=0$ odrzuciliśmy jako niefizyczny, energia cząstki jest zawsze $> 0$\n",
    "* energia rośnie z kwadratem $n$ - poziomy energetyczne nie są równoodległe.\n",
    "* energia elektronu jest odwrotnie proporcjonalna do kwadratu szerokości studni potencjału."
   ]
  },
  {
   "cell_type": "markdown",
   "metadata": {},
   "source": [
    "Pomimo, że nieskończona studnia potencjału jest modelem nierealistycznym - bardzo daleko idącym uproszczeniem rzeczywistej sytuacji - pozwala opisać np. zależność koloru związków posiadających łańcuchy wiązań sprzężonych: https://pl.wikipedia.org/wiki/Sprz%C4%99%C5%BCone_wi%C4%85zania_wielokrotne#Elektrony_%D0%BF_polien%C3%B3w_w_studni_potencja%C5%82u"
   ]
  }
 ],
 "metadata": {
  "kernelspec": {
   "display_name": "Python 3",
   "language": "python",
   "name": "python3"
  },
  "language_info": {
   "codemirror_mode": {
    "name": "ipython",
    "version": 3
   },
   "file_extension": ".py",
   "mimetype": "text/x-python",
   "name": "python",
   "nbconvert_exporter": "python",
   "pygments_lexer": "ipython3",
   "version": "3.8.5"
  }
 },
 "nbformat": 4,
 "nbformat_minor": 4
}
